{
 "cells": [
  {
   "metadata": {},
   "cell_type": "markdown",
   "source": "# Dictionaries",
   "id": "97eb35a81ebc8d58"
  },
  {
   "metadata": {},
   "cell_type": "markdown",
   "source": [
    "### Lernziele\n",
    "- Verstehen, was Dictionaries sind\n",
    "- Dictionaries erstellen, lesen und verändern\n",
    "- Mit verschachtelten Dictionaries arbeiten\n",
    "- Praktische Probleme mit Dictionaries lösen"
   ],
   "id": "199b3ee14244f0dd"
  },
  {
   "metadata": {},
   "cell_type": "markdown",
   "source": [
    "### 1. Was ist ein Dictionary?\n",
    "Ein Dictionary (Wörterbuch) speichert Paare aus **Schlüssel** und **Wert**. Ähnlich wie in einem echten Wörterbuch:\n",
    "Du suchst nach dem **Schlüssel** (z.B. dem Wort) und erhältst den **Wert** (z.B. die Definition).\n",
    "\n",
    "Als Beispiel schauen wir uns ein Inventar an. In einem Text-Adventure Spiel kann der/die Spieler/in Dinge sammeln.\n",
    "Die gesammelten Dinge landen im Inventar. Mit einem Dictionary können wir die gesammelten Objekte (**Schlüssel**)\n",
    "und die Anzahl (**Wert**) speichern."
   ],
   "id": "2a20c8831c7b4221"
  },
  {
   "cell_type": "code",
   "id": "initial_id",
   "metadata": {
    "collapsed": true,
    "ExecuteTime": {
     "end_time": "2025-05-15T07:43:24.735733Z",
     "start_time": "2025-05-15T07:43:24.733429Z"
    }
   },
   "source": [
    "# Ein einfaches Dictionary\n",
    "inventory = {'Rocks': 5, 'Sword': 1, 'Food': 12}"
   ],
   "outputs": [],
   "execution_count": 12
  },
  {
   "metadata": {},
   "cell_type": "markdown",
   "source": "### 2. Auf Werte zugreifen",
   "id": "c629b1398a6b3059"
  },
  {
   "metadata": {
    "ExecuteTime": {
     "end_time": "2025-05-15T07:43:25.336069Z",
     "start_time": "2025-05-15T07:43:25.333721Z"
    }
   },
   "cell_type": "code",
   "source": [
    "number_of_food = inventory['Food']\n",
    "print(f'Du hast {number_of_food} Essen dabei.')"
   ],
   "id": "67af186f5499663f",
   "outputs": [
    {
     "name": "stdout",
     "output_type": "stream",
     "text": [
      "Du hast 12 Essen dabei.\n"
     ]
    }
   ],
   "execution_count": 13
  },
  {
   "metadata": {},
   "cell_type": "markdown",
   "source": [
    "### Werte Ändern und hinzufügen\n",
    "Sie können bestehende Werte überschreiben. Wenn Sie einen Schlüssel angeben\n",
    "der nicht existiert wird er erstellt."
   ],
   "id": "a1f4b0ba56b68d9a"
  },
  {
   "metadata": {
    "ExecuteTime": {
     "end_time": "2025-05-15T07:44:04.642944Z",
     "start_time": "2025-05-15T07:44:04.640092Z"
    }
   },
   "cell_type": "code",
   "source": [
    "# Der/die Spieler/in nimmt einen weiteren Stein auf:\n",
    "inventory['Rocks'] = 6\n",
    "print('Inventar:', inventory)\n",
    "\n",
    "\n",
    "# Der/die Spieler/in findet ein Schild\n",
    "inventory['Shield'] = 1\n",
    "\n",
    "print('Inventar:', inventory)"
   ],
   "id": "3b0a41ecc484cfc6",
   "outputs": [
    {
     "name": "stdout",
     "output_type": "stream",
     "text": [
      "Inventar: {'Rocks': 6, 'Sword': 1, 'Food': 12, 'Shield': 1}\n",
      "Inventar: {'Rocks': 6, 'Sword': 1, 'Food': 12, 'Shield': 1}\n"
     ]
    }
   ],
   "execution_count": 15
  },
  {
   "metadata": {},
   "cell_type": "markdown",
   "source": [
    "## Aufgabe\n",
    "Erstellen Sie einen Dictionary welcher die Spieler (Schlüssel) und ihre Leben (Wert)\n",
    " beinhaltet. Erstellen Sie mindestens 3 Spieler."
   ],
   "id": "5cf05ea008c5d9d8"
  },
  {
   "metadata": {
    "ExecuteTime": {
     "end_time": "2025-05-15T07:46:28.481747Z",
     "start_time": "2025-05-15T07:46:28.479934Z"
    }
   },
   "cell_type": "code",
   "source": "# Schreiben Sie Ihren Code hier...",
   "id": "f75580f98acc263",
   "outputs": [],
   "execution_count": 17
  },
  {
   "metadata": {},
   "cell_type": "markdown",
   "source": "Ziehen Sie einem Ihrer Spieler ein Leben ab und fügen Sie einem anderen eines hinzu.",
   "id": "4f7513ed09b3608a"
  },
  {
   "metadata": {
    "ExecuteTime": {
     "end_time": "2025-05-15T07:47:03.397567Z",
     "start_time": "2025-05-15T07:47:03.395231Z"
    }
   },
   "cell_type": "code",
   "source": "# Schreiben Sie Ihren Code hier...",
   "id": "eec0395692bcc55",
   "outputs": [],
   "execution_count": 18
  },
  {
   "metadata": {},
   "cell_type": "markdown",
   "source": "Fügen Sie einen neuen Spieler hinzu.",
   "id": "99519a2157fe2568"
  },
  {
   "metadata": {
    "ExecuteTime": {
     "end_time": "2025-05-15T07:48:20.064853Z",
     "start_time": "2025-05-15T07:48:20.062940Z"
    }
   },
   "cell_type": "code",
   "source": "# Schreiben Sie Ihren Code hier ...",
   "id": "7772d730a5ed41da",
   "outputs": [
    {
     "name": "stdout",
     "output_type": "stream",
     "text": [
      "Rocks 6\n",
      "Sword 1\n",
      "Food 12\n",
      "Shield 1\n"
     ]
    }
   ],
   "execution_count": 23
  },
  {
   "metadata": {},
   "cell_type": "markdown",
   "source": [
    "## Loops\n",
    "Sie können mit einem `for loop` über einen Dictionary loopen:"
   ],
   "id": "7a3084e64174efe5"
  },
  {
   "metadata": {
    "ExecuteTime": {
     "end_time": "2025-05-15T07:49:40.533062Z",
     "start_time": "2025-05-15T07:49:40.530160Z"
    }
   },
   "cell_type": "code",
   "source": [
    "print('Inventar:')\n",
    "\n",
    "for item in inventory:\n",
    "    print('-', item)"
   ],
   "id": "e7475939feb21936",
   "outputs": [
    {
     "name": "stdout",
     "output_type": "stream",
     "text": [
      "Inventar:\n",
      "- Rocks\n",
      "- Sword\n",
      "- Food\n",
      "- Shield\n"
     ]
    }
   ],
   "execution_count": 25
  },
  {
   "metadata": {},
   "cell_type": "markdown",
   "source": "Mit `.items()` können Sie Schlüssel und Werte im Loop verwenden:",
   "id": "b9689ae09e6c344f"
  },
  {
   "metadata": {
    "ExecuteTime": {
     "end_time": "2025-05-15T07:51:05.268222Z",
     "start_time": "2025-05-15T07:51:05.265421Z"
    }
   },
   "cell_type": "code",
   "source": [
    "print('Sie haben:')\n",
    "\n",
    "for item, count in inventory.items():\n",
    "    print(count, 'x', item)"
   ],
   "id": "d3da0afb8b97733b",
   "outputs": [
    {
     "name": "stdout",
     "output_type": "stream",
     "text": [
      "Sie haben:\n",
      "6 x Rocks\n",
      "1 x Sword\n",
      "12 x Food\n",
      "1 x Shield\n"
     ]
    }
   ],
   "execution_count": 29
  },
  {
   "metadata": {},
   "cell_type": "markdown",
   "source": [
    "### Aufgabe\n",
    "Schreiben Sie eine Funktion die aus ihrem Spieler-Dictionary die Leben aller\n",
    "Spieler zusammenzählt."
   ],
   "id": "5f37d4f5ac941061"
  },
  {
   "metadata": {
    "ExecuteTime": {
     "end_time": "2025-05-15T08:03:00.087910Z",
     "start_time": "2025-05-15T08:03:00.085452Z"
    }
   },
   "cell_type": "code",
   "source": "# Schreiben Sie Ihren Code hier ...",
   "id": "ac9c3ab0d5afae70",
   "outputs": [],
   "execution_count": 31
  },
  {
   "metadata": {},
   "cell_type": "markdown",
   "source": [
    "## Verschachtelte Dictionaries\n",
    "Sie können Dictionaries beliebig verschachteln:"
   ],
   "id": "f496b362ecdfb1f1"
  },
  {
   "metadata": {
    "ExecuteTime": {
     "end_time": "2025-05-15T08:05:28.398211Z",
     "start_time": "2025-05-15T08:05:28.395443Z"
    }
   },
   "cell_type": "code",
   "source": [
    "player = {\n",
    "    'name': 'Peter',\n",
    "    'inventory': {\n",
    "        'Rocks': 5,\n",
    "        'Sword': 1,\n",
    "        'Food': 12\n",
    "    },\n",
    "    'level': 3,\n",
    "    'health': 10,\n",
    "}"
   ],
   "id": "3f30f754015278b2",
   "outputs": [],
   "execution_count": 35
  },
  {
   "metadata": {
    "ExecuteTime": {
     "end_time": "2025-05-15T08:06:31.492555Z",
     "start_time": "2025-05-15T08:06:31.489156Z"
    }
   },
   "cell_type": "code",
   "source": [
    "print(f'Hallo Spieler: {player['name']}')\n",
    "print(f'Du hast {player['inventory']['Rocks']} Steine dabei.')"
   ],
   "id": "f5bb6773aa72b6fc",
   "outputs": [
    {
     "name": "stdout",
     "output_type": "stream",
     "text": [
      "Hallo Spieler: Peter\n",
      "Du hast 5 Steine dabei.\n"
     ]
    }
   ],
   "execution_count": 39
  }
 ],
 "metadata": {
  "kernelspec": {
   "display_name": "Python 3",
   "language": "python",
   "name": "python3"
  },
  "language_info": {
   "codemirror_mode": {
    "name": "ipython",
    "version": 2
   },
   "file_extension": ".py",
   "mimetype": "text/x-python",
   "name": "python",
   "nbconvert_exporter": "python",
   "pygments_lexer": "ipython2",
   "version": "2.7.6"
  }
 },
 "nbformat": 4,
 "nbformat_minor": 5
}
