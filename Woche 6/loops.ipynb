{
 "cells": [
  {
   "metadata": {},
   "cell_type": "markdown",
   "source": [
    "# Loops\n",
    "Loops (Deutsch: Schleifen) ersparen uns viel Arbeit. Mit ihnen können wir Code wiederholen. In Python gibt es\n",
    "verschiedene Arten von Loops."
   ],
   "id": "ee6bd2feba21fe99"
  },
  {
   "metadata": {},
   "cell_type": "markdown",
   "source": [
    "# For Loop\n",
    "Mit dem for loop können wir einen code block für eine fixe Anzahl wiederholen. Dafür brauchen wir die `range`\n",
    "funktion. Mit diesem Befehl können steuern wie oft der Code ausgeführt werden soll. Der folgende Code gibt 3 mal\n",
    "'hello world' aus. Ändern Sie den Code so, dass 'hello world' 5-mal ausgegeben wird."
   ],
   "id": "ba0455fa1710357e"
  },
  {
   "cell_type": "code",
   "id": "initial_id",
   "metadata": {
    "collapsed": true
   },
   "source": [
    "for i in range(3):\n",
    "    print(\"Hello world\")"
   ],
   "outputs": [],
   "execution_count": null
  },
  {
   "metadata": {},
   "cell_type": "markdown",
   "source": [
    "Ihnen ist sicherlich das `i` im obigen Code aufgefallen. Was hat es damit auf sich? Bei for loops können wir eine\n",
    "sogenannte 'Laufvariable' definieren. Jedes Mal, wenn wir den loop durchlaufen wird in dieser Variable die Zahl des\n",
    "loops gespeichert bei welcher wir uns gerade befinden:"
   ],
   "id": "275288c47e9b72b8"
  },
  {
   "metadata": {},
   "cell_type": "code",
   "source": [
    "for i in range(7):\n",
    "    print(i)"
   ],
   "id": "1edb9eb461da533a",
   "outputs": [],
   "execution_count": null
  },
  {
   "metadata": {},
   "cell_type": "markdown",
   "source": [
    "Die (Laufvariable)[https://de.wikipedia.org/wiki/Laufindex] kann beliebig heissen. Üblicherweise wird sie i genannt.\n",
    " Benennen Sie sie um und vergessen Sie nicht das print ebenfalls anzupassen."
   ],
   "id": "9ae5a018e2302b7"
  },
  {
   "metadata": {},
   "cell_type": "markdown",
   "source": [
    "Mit der Laufvariable können wir uns im loop orientieren. Beispielsweise können wir die einzelnen Elemente einer Liste\n",
    " ausgeben:"
   ],
   "id": "9a8024305375195a"
  },
  {
   "metadata": {},
   "cell_type": "code",
   "source": [
    "the_fellowship = ['Frodo', 'Sam', 'Merry', 'Pippin', 'Gandalf', 'Legolas', 'Gimli', 'Aragorn', 'Boromir']\n",
    "\n",
    "for i in range( len(the_fellowship) ):\n",
    "    print(the_fellowship[i])"
   ],
   "id": "a6cc8095161838b8",
   "outputs": [],
   "execution_count": null
  },
  {
   "metadata": {},
   "cell_type": "markdown",
   "source": [
    "Wir können die Laufvariable mit der `range` funktion steuern:\n",
    "- Wenn wir nur eine Zahl mitgeben geht der Loop von 0 bis zu dieser Zahl. Achtung: Die angegebene Zahl ist immer\n",
    "exklusiv, der Loop stoppt vor der Zahl."
   ],
   "id": "dbac23a637cae262"
  },
  {
   "metadata": {},
   "cell_type": "code",
   "source": [
    "for i in range( 10 ):\n",
    "    print(i)"
   ],
   "id": "b57958e46cb46ed",
   "outputs": [],
   "execution_count": null
  },
  {
   "metadata": {},
   "cell_type": "markdown",
   "source": "- Wenn wir eine zwei Zahlen angeben geht der Loop von der ersten bis zur zweiten Zahl also `range( von, bis )`",
   "id": "c86853df1f70b24f"
  },
  {
   "metadata": {},
   "cell_type": "code",
   "source": [
    "for i in range( 3, 10 ):\n",
    "    print(i)"
   ],
   "id": "4016eb44f4228df5",
   "outputs": [],
   "execution_count": null
  },
  {
   "metadata": {},
   "cell_type": "markdown",
   "source": [
    "- Wenn wir drei Zahlen angeben definiert die dritte Zahl den Schritt im Loop, `range(1, 10, 2)` zählt also von 1 bis\n",
    "10 mit der Schrittlänge 2."
   ],
   "id": "93d51149d3c47233"
  },
  {
   "metadata": {},
   "cell_type": "code",
   "source": [
    "for i in range( 3, 10, 2):\n",
    "    print(i)"
   ],
   "id": "f97c10081158e4cb",
   "outputs": [],
   "execution_count": null
  },
  {
   "metadata": {},
   "cell_type": "markdown",
   "source": "**Aufgabe:** Schreiben Sie einen Loop welcher die Zahlen 4, 7, 10, 13, 16 und 19 ausgibt.",
   "id": "1989c3b4c5963829"
  },
  {
   "metadata": {},
   "cell_type": "code",
   "source": "# Ihr code:",
   "id": "be39d54fbf8659fe",
   "outputs": [],
   "execution_count": null
  },
  {
   "metadata": {},
   "cell_type": "markdown",
   "source": "**Aufgabe:** Schreiben Sie einen Loop welcher die Zahlen -3, -2, -1, 0, 1, 2 und 3 ausgibt.",
   "id": "17d1f7c27bbc3440"
  },
  {
   "metadata": {},
   "cell_type": "code",
   "source": "# Ihr code:",
   "id": "1eb75be97d2dea17",
   "outputs": [],
   "execution_count": null
  },
  {
   "metadata": {},
   "cell_type": "markdown",
   "source": "**Aufgabe:** Schreiben Sie einen Loop welcher die Zahlen 8, 6, 4 und 2 ausgibt.",
   "id": "19db8c5b36d4bd0b"
  },
  {
   "metadata": {},
   "cell_type": "code",
   "source": "# Ihr code:",
   "id": "6f2da15fc1373f20",
   "outputs": [],
   "execution_count": null
  },
  {
   "metadata": {},
   "cell_type": "markdown",
   "source": [
    "### Loops und Listen\n",
    "Wir haben gelernt, dass wir mit der Laufvariable eine Liste durch-loopen können. Python ermöglicht uns auch eine\n",
    "Abkürzung:"
   ],
   "id": "8712835418ab069a"
  },
  {
   "metadata": {},
   "cell_type": "code",
   "source": [
    "fruits = ['apple', 'orange', 'strawberry', 'peach']\n",
    "for fruit in fruits:\n",
    "    print(fruit)"
   ],
   "id": "22e45035d7e4f444",
   "outputs": [],
   "execution_count": null
  },
  {
   "metadata": {},
   "cell_type": "markdown",
   "source": "**Aufgabe:** Definieren Sie eine Shoppingliste und geben Sie alle Einträge aus.",
   "id": "1cce9eac380888d"
  },
  {
   "metadata": {},
   "cell_type": "code",
   "source": "# Ihr code:",
   "id": "e0115a689e95439c",
   "outputs": [],
   "execution_count": null
  },
  {
   "metadata": {},
   "cell_type": "markdown",
   "source": [
    "# While\n",
    "Die zweite Art von Loops ist der while Loop. Ein while Loop wiederholt sich so lange bis eine stopp Bedingung erfüllt\n",
    " ist. While loops sind besonders geeignet für Fälle bei denen man beim Programmieren noch nicht genau weiss, wie viele\n",
    "  wiederholungen benötigt werden."
   ],
   "id": "b83b7957e7620e78"
  },
  {
   "metadata": {},
   "cell_type": "markdown",
   "source": [
    "In diesem Beispiel fragen wir den User nach einer Startzahl für den Countdown. Das resultat der `input` funktion gibt\n",
    " einen `string` zurück, daher konvertieren wir diesen zu einem `int`. Danach zählen wir so lange herunter bis\n",
    " `number` nicht mehr grösser als 0 ist."
   ],
   "id": "15f9937e479bb417"
  },
  {
   "metadata": {},
   "cell_type": "code",
   "source": [
    "start = input(\"Startzahl für den Countdown\")\n",
    "number = int(start)\n",
    "\n",
    "while number > 0:\n",
    "    print(number)\n",
    "    number -= 1\n",
    "print('Countdown done!')"
   ],
   "id": "4c63ad86918d8c8c",
   "outputs": [],
   "execution_count": null
  },
  {
   "metadata": {},
   "cell_type": "markdown",
   "source": [
    "Achtung: While loops können gefährlich sein. Wenn die Bedingung des Loops nie Falsch wird, läuft ihr Programm für\n",
    "immer: Es hängt sich auf. Wenn Sie wollen, dürfen Sie das in diesem Notebook testen. Sie müssen dann manuell abbrechen\n",
    "und evtl. den Kernel neu Starten."
   ],
   "id": "90c60e1c2d68e63c"
  },
  {
   "metadata": {},
   "cell_type": "code",
   "source": "# Optional: Schreiben Sie ein ewig laufendes Programm:",
   "id": "aa3300af6f59d5ba",
   "outputs": [],
   "execution_count": null
  },
  {
   "metadata": {},
   "cell_type": "markdown",
   "source": [
    "# Logik in Loops\n",
    "Es gibt zwei spezielle Befehle die sie mit Loops verwenden können:"
   ],
   "id": "81076858072c771f"
  },
  {
   "metadata": {},
   "cell_type": "markdown",
   "source": [
    "### Break\n",
    "Mit dem `break` Befehl können Sie einen Loop abbrechen."
   ],
   "id": "236f19ac76703cd5"
  },
  {
   "metadata": {},
   "cell_type": "code",
   "source": [
    "for i in range(1, 10):\n",
    "    if i == 5:\n",
    "        print('Gefunden:', i)\n",
    "        break"
   ],
   "id": "261c164e3981102c",
   "outputs": [],
   "execution_count": null
  },
  {
   "metadata": {},
   "cell_type": "markdown",
   "source": [
    "### Continue\n",
    "Mit `continue` können Sie eine Iterations des Loops überspingen."
   ],
   "id": "41f84db28c555696"
  },
  {
   "metadata": {},
   "cell_type": "code",
   "source": [
    "for i in range(1, 6):\n",
    "    if i == 3:\n",
    "        continue  # Falls i gleich drei ist, wird der Loop hier übersprungen und die nächste Iteration wird ausgeführt\n",
    "    print(i)"
   ],
   "id": "6f41bd97bdc68a2f",
   "outputs": [],
   "execution_count": null
  },
  {
   "metadata": {},
   "cell_type": "markdown",
   "source": [
    "# Challenges\n",
    "Überlegen Sie welcher Loop sich für die folgenden Probleme besser eignet."
   ],
   "id": "9cb8781cfb5c3271"
  },
  {
   "metadata": {},
   "cell_type": "markdown",
   "source": [
    "**1) Einmaleins**\n",
    "\n",
    "Schreiben Sie ein Programm welches die 3er-Reihe in folgendem Format ausgibt:\n",
    "```\n",
    "1 x 1 = 1\n",
    "1 x 2 = 2\n",
    "...\n",
    "```"
   ],
   "id": "6622b91d97db3e05"
  },
  {
   "metadata": {},
   "cell_type": "code",
   "source": "# Ihr code:\n",
   "id": "1e0b3baee2981435",
   "outputs": [],
   "execution_count": null
  },
  {
   "metadata": {},
   "cell_type": "markdown",
   "source": [
    "**2) Mehrere Reihen**\n",
    "\n",
    "Schaffen Sie es zusätzlich zur 3er-Reihe auch noch die 4er-Reihe in einem Loop auszugeben?"
   ],
   "id": "b26c3b56fd28bf9"
  },
  {
   "metadata": {},
   "cell_type": "code",
   "source": "# Ihr code:\n",
   "id": "79eec595de571b1",
   "outputs": [],
   "execution_count": null
  },
  {
   "metadata": {},
   "cell_type": "markdown",
   "source": [
    "**3) Pyhsik Simulation**\n",
    "\n",
    "Sie lassen einen Ball von einer bestimmten höhe fallen. Bei jedem Aufprall auf dem Boden verliert der Ball 40% der\n",
    "Energie und springt noch 60% so hoch wie beim letzten mal. Schreiben Sie ein Programm welches die Höhe nach jedem\n",
    "Aufprall ausgibt bis der Ball weniger als 1m hoch springt. Testen Sie verschiedene Starthöhen.\n"
   ],
   "id": "7cc5e4a7c7bc512b"
  },
  {
   "metadata": {
    "ExecuteTime": {
     "end_time": "2025-04-10T07:54:37.606988Z",
     "start_time": "2025-04-10T07:54:37.604055Z"
    }
   },
   "cell_type": "code",
   "source": [
    "# Beispielbild\n",
    "from IPython.display import Image\n",
    "Image(filename='images/bounce.png', width=300, height=300)"
   ],
   "id": "eca9474739be75e3",
   "outputs": [
    {
     "data": {
      "image/png": "[encoded data removed]",
      "text/plain": [
       "<IPython.core.display.Image object>"
      ]
     },
     "execution_count": 56,
     "metadata": {
      "image/png": {
       "width": 300,
       "height": 300
      }
     },
     "output_type": "execute_result"
    }
   ],
   "execution_count": 56
  },
  {
   "metadata": {},
   "cell_type": "code",
   "source": [
    "height = 10\n",
    "# Beginnen Sie Ihren Code ab hier:\n"
   ],
   "id": "1433f0033cebc607",
   "outputs": [],
   "execution_count": null
  },
  {
   "metadata": {},
   "cell_type": "markdown",
   "source": [
    "**3) FizzBuzz**\n",
    "\n",
    "In England ist das Spiel FizzBuzz bei Schülerinnen und Schülern verbreitet. Dabei sitzen alle im Kreis und zählen\n",
    "gemeinsam auf 100: Die erste Person sagt 1, die zweite 2, usw. Dazu kommen folgende Regeln:\n",
    "- Ist eine Zahl durch 3 teilbar sagt man statt der Zahl `Fizz`\n",
    "- Ist eine Zahl durch 5 teilbar sagt man statt der zahl `Buzz`\n",
    "- Ist eine Zahl durch 3 und 5 teilbar sagt man `FizzBuzz`\n",
    "\n",
    "Ihre Aufgabe ist es das Spiel in Python zu programmieren. Der Modulo Operator (`%` in Python) hilft Ihnen bei dieser\n",
    "Aufgabe. Finden Sie als erstes heraus wie er funktioniert und programmieren Sie danach das Spiel.\n",
    "\n",
    "Links zum Modulo Operator:\n",
    "- [Wikipedia auf Deutsch](https://de.wikipedia.org/wiki/Division_mit_Rest)\n",
    "- [Modulo in Python auf Englisch](https://realpython.com/python-modulo-operator/)"
   ],
   "id": "d44461e86dbf08e"
  },
  {
   "metadata": {},
   "cell_type": "code",
   "source": "# Ihr code:\n",
   "id": "afc5717cdbebb8ce",
   "outputs": [],
   "execution_count": null
  },
  {
   "metadata": {},
   "cell_type": "markdown",
   "source": [
    "### Zusatz\n",
    "Eigentlich brauchen wir nur den `while` loop. Mit ihm können wir jedes Python Program schreiben. Ändern Sie folgende\n",
    "Programme mit for loop zu while loops um:"
   ],
   "id": "17e8189186369211"
  },
  {
   "metadata": {},
   "cell_type": "code",
   "source": [
    "total = 0\n",
    "\n",
    "for i in range(43):\n",
    "    total += 42\n",
    "\n",
    "print('Summe der Zahlen 1 bis 42:', total)"
   ],
   "id": "a330365e53f9611",
   "outputs": [],
   "execution_count": null
  },
  {
   "metadata": {},
   "cell_type": "code",
   "outputs": [],
   "execution_count": null,
   "source": "",
   "id": "75674fd8d709c2a6"
  }
 ],
 "metadata": {
  "kernelspec": {
   "display_name": "Python 3",
   "language": "python",
   "name": "python3"
  },
  "language_info": {
   "codemirror_mode": {
    "name": "ipython",
    "version": 2
   },
   "file_extension": ".py",
   "mimetype": "text/x-python",
   "name": "python",
   "nbconvert_exporter": "python",
   "pygments_lexer": "ipython2",
   "version": "2.7.6"
  }
 },
 "nbformat": 4,
 "nbformat_minor": 5
}
