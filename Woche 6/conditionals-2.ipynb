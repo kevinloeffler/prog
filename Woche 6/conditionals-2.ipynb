{
 "cells": [
  {
   "metadata": {},
   "cell_type": "markdown",
   "source": [
    "# Conditionals 2\n",
    "Wir können verschiedene Bedingungen miteinander verknüpfen"
   ],
   "id": "59f0b59331184599"
  },
  {
   "metadata": {},
   "cell_type": "markdown",
   "source": [
    "Der folgende Code Überprüft ob zwei Bedingungen wahr sind. Zuerst wird überprüft ob die Person ein:e Schüler:in ist\n",
    "und falls ja wird überprüft ob die Person auch angemeldet (enrolled) ist:"
   ],
   "id": "3703eb1013626135"
  },
  {
   "metadata": {},
   "cell_type": "code",
   "source": [
    "is_student = True\n",
    "is_enrolled = True\n",
    "\n",
    "if is_student:\n",
    "    if is_enrolled:\n",
    "        print(\"Schüler an der Tempus\")"
   ],
   "id": "8082dc3e95cc6434",
   "outputs": [],
   "execution_count": null
  },
  {
   "metadata": {},
   "cell_type": "markdown",
   "source": "Dieser Code ist etwas umständlich, vor allem wenn Sie mehr als zwei Bedingungen haben.",
   "id": "4cad276ad916533f"
  },
  {
   "metadata": {},
   "cell_type": "markdown",
   "source": [
    "### and\n",
    "Mit `and` können wir testen, ob zwei Bedingungen gleichzeitig `True` sind. Probieren Sie verschiedene Varianten der\n",
    "beiden Variablen `is_student` und `is_enrolled` aus:"
   ],
   "id": "aab613e13a7dd176"
  },
  {
   "cell_type": "code",
   "id": "initial_id",
   "metadata": {
    "collapsed": true
   },
   "source": [
    "is_student = True\n",
    "is_enrolled = True\n",
    "\n",
    "if is_student and is_enrolled:\n",
    "    print(\"Schüler an der Tempus\")"
   ],
   "outputs": [],
   "execution_count": null
  },
  {
   "metadata": {},
   "cell_type": "markdown",
   "source": [
    "### or\n",
    "Mit `or` können wir testen, ob eine von zwei Bedingungen `True` ist. Probieren Sie verschiedene kombinationen der\n",
    "beiden Variablen aus:"
   ],
   "id": "a0b7e27092435482"
  },
  {
   "metadata": {},
   "cell_type": "code",
   "source": [
    "is_child = True\n",
    "is_senior = False\n",
    "\n",
    "if is_child or is_senior:\n",
    "    print(\"Erhält Rabatt\")\n",
    "else:\n",
    "    print(\"Zahlt den vollen Preis\")"
   ],
   "id": "3272ee91ed57d01c",
   "outputs": [],
   "execution_count": null
  },
  {
   "metadata": {},
   "cell_type": "markdown",
   "source": [
    "**Aufgabe:** Schreiben Sie ein Conditional `if ... else ...` mit dem Sie überprüfen können, ob jemand ins Kino darf\n",
    "oder nicht. Der Gast muss mindestens 14 Jahre alt sein und ein Ticket haben."
   ],
   "id": "8b2787fa5fa8b2d1"
  },
  {
   "metadata": {},
   "cell_type": "code",
   "source": [
    "age = 15\n",
    "has_ticket = True\n",
    "\n",
    "# Beginnen Sie Ihren Code ab hier:\n"
   ],
   "id": "a2bd85c597315da2",
   "outputs": [],
   "execution_count": null
  },
  {
   "metadata": {},
   "cell_type": "markdown",
   "source": [
    "### Verknüpfungen\n",
    "Wir können Bedingungen beliebig verknüpfen. Mit Klammern können Sie die Reihenfolge vorgeben."
   ],
   "id": "a6a6703e15d60607"
  },
  {
   "metadata": {},
   "cell_type": "code",
   "source": [
    "# Beispiel: Darf das Flugzeug starten?\n",
    "checklist = True\n",
    "weather_is_good = True\n",
    "autopilot_is_ready = False\n",
    "pilot_is_ready = True\n",
    "\n",
    "if checklist and weather_is_good and (autopilot_is_ready or pilot_is_ready):\n",
    "    print(\"Ready to take off 🛫\")\n",
    "else:\n",
    "    print(\"Wait 🙅🏼‍♂️\")"
   ],
   "id": "64a9a5e3a88d6c17",
   "outputs": [],
   "execution_count": null
  },
  {
   "metadata": {},
   "cell_type": "markdown",
   "source": [
    "**Aufgabe:** Ihre Aufgabe ist es das Sicherheitssystem für ein Hochsicherheitslabor zu programmieren. Personen dürfen\n",
    " das Labor nur betreten, wenn:\n",
    "- sie einen Ausweis haben `has_id`\n",
    "- das Passwort kennen `knows_password` oder einen Zugangscode haben `has_access_code`\n",
    "- eine Maske `wears_mask` oder einen Schutzanzug `wears_hazmat_suite` tragen"
   ],
   "id": "1f108598eabcc438"
  },
  {
   "metadata": {},
   "cell_type": "code",
   "source": [
    "has_id = True\n",
    "knows_password = False\n",
    "has_access_code = True\n",
    "wears_mask = False\n",
    "wears_hazmat_suite = True\n",
    "\n",
    "# Beginnen Sie Ihren Code ab hier:\n"
   ],
   "id": "ba2e866b8360719a",
   "outputs": [],
   "execution_count": null
  },
  {
   "metadata": {},
   "cell_type": "markdown",
   "source": [
    "### not\n",
    "Mit `not` können Sie eine Bedingung umkehren. `not True` ist gleich `False` und umgekehrt."
   ],
   "id": "2042cd0d4431361d"
  },
  {
   "metadata": {},
   "cell_type": "code",
   "source": [
    "is_secret = False\n",
    "\n",
    "if not is_secret:\n",
    "    print('Keine Geheimnisse')"
   ],
   "id": "602fbfeb871f659b",
   "outputs": [],
   "execution_count": null
  },
  {
   "metadata": {},
   "cell_type": "markdown",
   "source": "Sie können `not` beliebig kombinieren.",
   "id": "221fdbeb804d33a7"
  },
  {
   "metadata": {},
   "cell_type": "code",
   "source": "print( not not not not not not not not not not not not not True)",
   "id": "e184f46ece3c2e00",
   "outputs": [],
   "execution_count": null
  }
 ],
 "metadata": {
  "kernelspec": {
   "display_name": "Python 3",
   "language": "python",
   "name": "python3"
  },
  "language_info": {
   "codemirror_mode": {
    "name": "ipython",
    "version": 2
   },
   "file_extension": ".py",
   "mimetype": "text/x-python",
   "name": "python",
   "nbconvert_exporter": "python",
   "pygments_lexer": "ipython2",
   "version": "2.7.6"
  }
 },
 "nbformat": 4,
 "nbformat_minor": 5
}
