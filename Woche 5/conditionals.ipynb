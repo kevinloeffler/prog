{
 "cells": [
  {
   "metadata": {},
   "cell_type": "markdown",
   "source": [
    "# Conditionals\n",
    "Woche 5 - Verwenden Sie das Internet wenn Sie eine Funktion nicht kennen und probieren Sie verschiedene Lösungen aus.\n",
    "Eine gute Website ist [StackOverflow](https://stackoverflow.com/questions).\n"
   ],
   "id": "a3ea60e73e14ea04"
  },
  {
   "metadata": {},
   "cell_type": "markdown",
   "source": [
    "In Python können Sie mit Bedingungen entscheiden, ob ein bestimmter Code ausgeführt werden soll oder nicht.\n",
    "Das funktioniert mit `if`, `elif` und `else`."
   ],
   "id": "e22167a008e73b80"
  },
  {
   "metadata": {},
   "cell_type": "markdown",
   "source": [
    "### If\n",
    "Überprüfen Sie ob eine Bedingung erfüllt ist, also `True` oder `False`.\n",
    "Ändern Sie die Variable is_raining auf True / False und schauen Sie was passiert:"
   ],
   "id": "7749509cb2307a7"
  },
  {
   "metadata": {},
   "cell_type": "code",
   "source": [
    "import random\n",
    "\n",
    "is_raining = True\n",
    "\n",
    "if is_raining:\n",
    "    print(\"Regenschirm mitnehmen ☔️\")\n",
    "\n",
    "print('Los gehts...')"
   ],
   "id": "58c53d77cf5a43da",
   "outputs": [],
   "execution_count": null
  },
  {
   "metadata": {},
   "cell_type": "markdown",
   "source": [
    "> Hinweis:\n",
    "> Beachten Sie den verwendeten whitespace, also den eingerückten Code nach dem `if`. Wir können einen neuen Code\n",
    "> Block mit einem Doppelpunkt beginnen. Alle Zeilen welche gleich viel eingerückt sind werden als einen Code Block\n",
    "> angesehen. Sobald eine Zeile weniger weit eingerückt ist endet der Code Block, hier das \"print: Los gehts...\""
   ],
   "id": "9eba48cd2d717569"
  },
  {
   "metadata": {},
   "cell_type": "markdown",
   "source": [
    "### Else\n",
    "Mit `if` können wir also einen Code Block ausführen je nachdem ob unsere Bedingung Wahr oder Falsch ist. Doch wie\n",
    "können wir eine Alternative angeben? Wenn nicht X dann Y? Dazu brauchen wir das `else`:"
   ],
   "id": "890d5447e0e34092"
  },
  {
   "cell_type": "code",
   "id": "initial_id",
   "metadata": {
    "collapsed": true
   },
   "source": [
    "if is_raining:\n",
    "    print(\"Regenschirm mitnehmen ☔️\")\n",
    "else:\n",
    "    print(\"Sonnenbrille mitnehmen 🕶️\")\n",
    "\n",
    "print(\"Los gehts...\")"
   ],
   "outputs": [],
   "execution_count": null
  },
  {
   "metadata": {},
   "cell_type": "markdown",
   "source": [
    "Wir können verschiedene Operatoren verwenden, um Werte zu vergleichen:\n",
    "- **==** gleich\n",
    "- **<** kleiner\n",
    "- **>** grösser\n",
    "- **<=** kleiner gleich\n",
    "- **>=** grösser gleich\n",
    "\n",
    "Das Resultat jedes vergleichs ist ein Boolean also `True` oder `False`"
   ],
   "id": "f24460f647f7723a"
  },
  {
   "metadata": {},
   "cell_type": "code",
   "source": [
    "age_heiko = 15\n",
    "age_maya = 16\n",
    "heiko_is_older = age_heiko > age_maya\n",
    "if heiko_is_older:\n",
    "    print(\"Heiko ist älter\")\n",
    "else:\n",
    "    print(\"Maya ist älter\")"
   ],
   "id": "700b4a478ededf45",
   "outputs": [],
   "execution_count": null
  },
  {
   "metadata": {},
   "cell_type": "markdown",
   "source": [
    "**Aufgabe:** Definieren Sie eine Variable mit der Note (1-6) von der Sie denken, sie werden Sie an der nächsten\n",
    "Prüfung schreiben.\n",
    "Testen Sie nun ob Sie mit Ihrer Note bestanden haben (genügend sind). Speichern Sie das Resultat des Vergleichs in\n",
    "eine zweite Variable und printen Sie \"Bestanden\" oder \"Nicht bestanden\" je nachdem ob der Vergleich `True` oder\n",
    "`False` ist."
   ],
   "id": "dd92fe56b5fbaba9"
  },
  {
   "metadata": {},
   "cell_type": "code",
   "source": [
    "# Todo\n",
    "grade = ...\n",
    "passed = ..."
   ],
   "id": "8393c472ef106581",
   "outputs": [],
   "execution_count": null
  },
  {
   "metadata": {},
   "cell_type": "markdown",
   "source": [
    "Jedes Mal eine Variable zu erstellen, um eine Bedingung zu testen ist etwas mühsam. Wir können uns etwas Code sparen\n",
    "und den Vergleich direkt im Conditional schreiben:"
   ],
   "id": "7e961b7c505e76ae"
  },
  {
   "metadata": {},
   "cell_type": "code",
   "source": [
    "age = 17\n",
    "\n",
    "if age > 18:\n",
    "    print(\"🍸\")\n",
    "else:\n",
    "    print(\"🥤\")"
   ],
   "id": "1f305620507a6fe8",
   "outputs": [],
   "execution_count": null
  },
  {
   "metadata": {},
   "cell_type": "markdown",
   "source": [
    "Mit diesem Code bekommen Sie je nach Alter einen Drink oder nicht. Aber was ist mit Bier und Wein? Das dürfen Sie\n",
    "bereits mit 16 Jahren trinken. Um diese Logik einzubauen brauchen wir das `elif`."
   ],
   "id": "b2ca692567b7bd12"
  },
  {
   "metadata": {},
   "cell_type": "markdown",
   "source": [
    "### Elif\n",
    "Elif steht für \"Else if\" also für eine weitere Option. Mit `elif` können Sie mehr als nur eine Bedingung in einem\n",
    "Conditional testen."
   ],
   "id": "1a24837f43ffd8dd"
  },
  {
   "metadata": {},
   "cell_type": "code",
   "source": [
    "if age > 18:\n",
    "    print(\"🍸\")\n",
    "elif age > 16:\n",
    "    print(\"🍺\")\n",
    "else:\n",
    "    print(\"🥤\")"
   ],
   "id": "25e200f811cefe33",
   "outputs": [],
   "execution_count": null
  },
  {
   "metadata": {},
   "cell_type": "markdown",
   "source": [
    "Wie Sie sehen haben wir jetzt 3 verschiedene Möglichkeiten in unserem Conditional. Sie können beliebig viele `elif`\n",
    "verwenden:"
   ],
   "id": "cfd7d2fa365ba3d3"
  },
  {
   "metadata": {},
   "cell_type": "code",
   "source": [
    "number = 9  # wählen Sie eine beliebige Zahl zwischen 1 und 10\n",
    "\n",
    "if number == 1:\n",
    "    print(\"Ungerade\")\n",
    "elif number == 2:\n",
    "    print(\"Gerade\")\n",
    "elif number == 3:\n",
    "    print(\"Ungerade\")\n",
    "elif number == 4:\n",
    "    print(\"Gerade\")\n",
    "elif number == 5:\n",
    "    print(\"Ungerade\")\n",
    "elif number == 6:\n",
    "    print(\"Gerade\")\n",
    "elif number == 7:\n",
    "    print(\"Ungerade\")\n",
    "elif number == 8:\n",
    "    print(\"Gerade\")\n",
    "elif number == 9:\n",
    "    print(\"Ungerade\")\n",
    "elif number == 10:\n",
    "    print(\"Gerade\")\n",
    "else:\n",
    "    print(\"Die Zahl ist zu gross...\")"
   ],
   "id": "9b7301531128db26",
   "outputs": [],
   "execution_count": null
  },
  {
   "metadata": {},
   "cell_type": "markdown",
   "source": [
    "**Aufgabe:** Die Reihenfolge bei Conditionals (Vergleichen) ist wichtig! Finden Sie in folgendem Code den Fehler\n",
    "(Bug) und korrigieren Sie ihn.\n",
    "\n",
    "Mia hat bei einem Test 92 Punkte erreicht. Laut dem folgenden Bewertungssystem sollte sie die Note “Sehr gut” bekommen:\n",
    "- ab 90 Punkte → Sehr gut\n",
    "- 75 Punkte → Gut\n",
    "- 60 Punkte → Befriedigend\n",
    "- sonst → Nicht genügend\n",
    "\n",
    "Aber irgendetwas stimmt mit dem Code nicht – Mia bekommt nicht die Note, die sie verdient hat!"
   ],
   "id": "c9f572a109e06912"
  },
  {
   "metadata": {},
   "cell_type": "code",
   "source": [
    "# 🚨 Fehlerhafter Code\n",
    "\n",
    "punkte = 92\n",
    "\n",
    "if punkte >= 60:\n",
    "    print(\"Note: Befriedigend\")\n",
    "elif punkte >= 75:\n",
    "    print(\"Note: Gut\")\n",
    "elif punkte >= 90:\n",
    "    print(\"Note: Sehr gut\")\n",
    "else:\n",
    "    print(\"Note: Nicht genügend\")"
   ],
   "id": "11b75ac69e30febb",
   "outputs": [],
   "execution_count": null
  },
  {
   "metadata": {},
   "cell_type": "markdown",
   "source": [
    "### Strings vergleichen\n",
    "Sie können nicht nur Zahlen vergleichen, sondern auch strings."
   ],
   "id": "85ef396a86799fdb"
  },
  {
   "metadata": {},
   "cell_type": "code",
   "source": [
    "string0 = 'hello world'\n",
    "string1 = 'hello '\n",
    "string2 = 'world'"
   ],
   "id": "f5bed3bdaf41c41d",
   "outputs": [],
   "execution_count": null
  },
  {
   "metadata": {},
   "cell_type": "markdown",
   "source": "**Aufgabe:** Vergleichen Sie string0 mit string1 und string0 mit string2 und printen Sie das Ergebnis",
   "id": "fc92e3804b08c217"
  },
  {
   "metadata": {},
   "cell_type": "code",
   "source": "# TODO",
   "id": "ef3b5288d3404c57",
   "outputs": [],
   "execution_count": null
  },
  {
   "metadata": {},
   "cell_type": "markdown",
   "source": [
    "**Aufgabe:** Erstellen Sie einen string4 bestehend aus string1 und string2 so dass er gleich ist wie string0,\n",
    "überprüfen Sie Ihre arbeit und printen Sie das Resultat"
   ],
   "id": "76fb6f158222d468"
  },
  {
   "metadata": {},
   "cell_type": "code",
   "source": "# TODO",
   "id": "2a2f145bfc8e170",
   "outputs": [],
   "execution_count": null
  },
  {
   "metadata": {},
   "cell_type": "markdown",
   "source": "**Aufgabe:** Vergleichen Sie die Länge verschiedener strings",
   "id": "6c8c87ed737d3b08"
  },
  {
   "metadata": {},
   "cell_type": "code",
   "source": "# TODO",
   "id": "9f5a1582991066c2",
   "outputs": [],
   "execution_count": null
  },
  {
   "metadata": {},
   "cell_type": "markdown",
   "source": "### Aufgaben",
   "id": "acd130d5b1bc1d4"
  },
  {
   "metadata": {},
   "cell_type": "markdown",
   "source": [
    "**1)** Die Funktion `random.randint()` gibt eine Zufallszahl zwischen -10 und 10 zurück und speichert Sie in der\n",
    "Variable X.\n",
    " Schreiben Sie Code welcher ausgibt (print) ob x positiv, negativ oder 0 ist."
   ],
   "id": "458a65966776b332"
  },
  {
   "metadata": {},
   "cell_type": "code",
   "source": [
    "import random\n",
    "x = random.randint(-10, 10)\n",
    "# Beginnen Sie Ihren Code ab hier:\n"
   ],
   "id": "3398b3033f49ba93",
   "outputs": [],
   "execution_count": null
  },
  {
   "metadata": {},
   "cell_type": "markdown",
   "source": [
    "**2)** Mit der Funktion `input()` können Sie von Ihrem Python Programm aus den User um Input fragen. Schreiben Sie ein\n",
    "Programm, das prüft, ob ein eingegebenes Passwort korrekt ist. Das richtige Passwort ist: geheim123"
   ],
   "id": "dfa700e010790e85"
  },
  {
   "metadata": {},
   "cell_type": "code",
   "source": [
    "password = input(\"Gib das Passwort ein: \")\n",
    "# Beginnen Sie Ihren Code ab hier:\n"
   ],
   "id": "86c4c76072fea1e2",
   "outputs": [],
   "execution_count": null
  },
  {
   "metadata": {},
   "cell_type": "markdown",
   "source": [
    "**3)** *Anspruchsvoll* Entscheiden Sie anhand der Temperatur und des Wetters, welche Jacke Sie anziehen. Wenn es Kalt is\n",
    "(weniger als 10°) ziehen Sie eine Winterjacke an, wenn es wärmer ist und es regnet Ziehen Sie eine Regenjacke an, und\n",
    " wenn es warm ist und nicht regnet brauchen Sie keine Jacke. Sie haben also drei Optionen:\n",
    "- Winterjacke\n",
    "- Regenjacke\n",
    "- Keine Jacke"
   ],
   "id": "73c8a79b693cf3cd"
  },
  {
   "metadata": {},
   "cell_type": "code",
   "source": [
    "temperature = random.randint(-5, 30)\n",
    "is_raining = bool(random.getrandbits(1))\n",
    "\n",
    "# Beginnen Sie Ihren Code ab hier:\n"
   ],
   "id": "2fdc3cdb0a550305",
   "outputs": [],
   "execution_count": null
  },
  {
   "metadata": {},
   "cell_type": "code",
   "source": "",
   "id": "7f4787bc0f83026d",
   "outputs": [],
   "execution_count": null
  }
 ],
 "metadata": {
  "kernelspec": {
   "display_name": "Python 3",
   "language": "python",
   "name": "python3"
  },
  "language_info": {
   "codemirror_mode": {
    "name": "ipython",
    "version": 2
   },
   "file_extension": ".py",
   "mimetype": "text/x-python",
   "name": "python",
   "nbconvert_exporter": "python",
   "pygments_lexer": "ipython2",
   "version": "2.7.6"
  }
 },
 "nbformat": 4,
 "nbformat_minor": 5
}
