{
 "cells": [
  {
   "metadata": {},
   "cell_type": "markdown",
   "source": "# Variablen und Typen",
   "id": "f891141193622742"
  },
  {
   "metadata": {},
   "cell_type": "markdown",
   "source": [
    "**Aufgabe 1**\n",
    "Schreiben Sie in einem Code Feld folgenden Code: print('Hello world')\n",
    "Führen Sie das Feld aus. Das Resultat darunter sollte jetzt\n",
    "hello world stehen. Gratulation, Sie haben ihr erstes Python\n",
    "Programm geschrieben.\n",
    "\n",
    "Ändern Sie den String und sagen Sie jemand anderem Hallo. Frage: Funktioniert es auch mit Emojis?"
   ],
   "id": "442d4d2ce89cd268"
  },
  {
   "cell_type": "code",
   "id": "initial_id",
   "metadata": {
    "collapsed": true
   },
   "source": "# Schreiben Sie Ihren Code hier:\n",
   "outputs": [],
   "execution_count": null
  },
  {
   "metadata": {},
   "cell_type": "markdown",
   "source": [
    "**Aufgabe 2:**\n",
    "Jetzt wollen wir die Nachricht an die Welt nicht mehr direkt im Print\n",
    "Befehl haben sondern in einer Variable speichern. Erstellen Sie\n",
    "eine Variable mit dem Namen favorite_colour und geben Sie als\n",
    "den Wert ihre Lieblingsfarbe als String an.\n",
    "\n",
    "Geben Sie ihre Lieblingsfarbe mit einem Print Befehl aus."
   ],
   "id": "2faa4bff5bc08e9"
  },
  {
   "metadata": {},
   "cell_type": "code",
   "source": "# Schreiben Sie Ihren Code hier:\n",
   "id": "dee9075cda77c037",
   "outputs": [],
   "execution_count": null
  },
  {
   "metadata": {},
   "cell_type": "markdown",
   "source": [
    "Damit wir wissen was es mit dieser Farbe auf sich hat wollen wir nicht\n",
    "nur Ihre Farbe ausgeben sondern auch noch das Wort Lieblingsfarbe.\n",
    "Fügen Sie einen zweiten Print Befehl hinzu welches den String\n",
    "‘Lieblingsfarbe:’ ausgibt. Achten Sie auf die richtige Reihenfolge. Der\n",
    "Python Code wird von oben nach unten ausgeführt."
   ],
   "id": "d7be1186f66e12f2"
  },
  {
   "metadata": {},
   "cell_type": "code",
   "source": "# Schreiben Sie Ihren Code hier:\n",
   "id": "69ed1f16c299c8e5",
   "outputs": [],
   "execution_count": null
  },
  {
   "metadata": {},
   "cell_type": "markdown",
   "source": [
    "Wir können die beiden Print Befehle zu einem kombinieren. Innerhalb\n",
    "der Klammern können wir mehrere Dinge mit Kommas getrennt\n",
    "auflisten um Sie alle in einer Zeile auszugeben. Verwenden Sie das\n",
    "um den String und die Variable im gleichen Print auszugeben.\n",
    "\n",
    "Beispiel:"
   ],
   "id": "414a1050debbd5b"
  },
  {
   "metadata": {},
   "cell_type": "code",
   "source": "print('Erster String', 'Zweiter String', 'Dritter String')",
   "id": "e42abb494964c3c5",
   "outputs": [],
   "execution_count": null
  },
  {
   "metadata": {},
   "cell_type": "markdown",
   "source": [
    "Erstellen Sie neben dem String für jeden Typ den wir kennen eine\n",
    "Variable: int, float, bool.\n",
    "Geben Sie den Variablen sinnvolle Namen und geben Sie die\n",
    "Variablen mit einem kurzen Beschrieb mit dem Print Befehl aus. Sie\n",
    "sollten jetzt 4 Zeilen auf der Konsole sehen mit ihren 4 Variablen."
   ],
   "id": "bff4a93d591ca1dc"
  },
  {
   "metadata": {},
   "cell_type": "code",
   "source": "# Schreiben Sie Ihren Code hier:\n",
   "id": "b1bcb0f517fda235",
   "outputs": [],
   "execution_count": null
  },
  {
   "metadata": {},
   "cell_type": "markdown",
   "source": [
    "Wir können mit den Variablen nicht nur Informationen speichern\n",
    "sondern auch damit arbeiten.\n",
    "Löschen Sie alles aus dem Code Editor. Erstellen Sie eine Variable x\n",
    "mit dem Wert 7. Erstellen Sie eine zweite Variable y mit dem Wert 15.\n",
    "Rechnen Sie die die beiden Werte zusammen und speichern Sie das\n",
    "Resultat in einer neuen Variable z und geben Sie das resultat aus."
   ],
   "id": "97a9c36f02721ac2"
  },
  {
   "metadata": {},
   "cell_type": "code",
   "source": "# Schreiben Sie Ihren Code hier:\n",
   "id": "8838b6c9ef176224",
   "outputs": [],
   "execution_count": null
  },
  {
   "metadata": {},
   "cell_type": "markdown",
   "source": [
    "Python kann viele Operationen aus der Mathematik:\n",
    "| Operation     | Python Syntax | Beispiel  |\n",
    "|---------------|---------------|-----------|\n",
    "| Addition      | `+`           | `3 + 2`   |\n",
    "| Subtraktion   | `-`           | `3 - 2`   |\n",
    "| Multiplikation| `*`           | `3 * 2`   |\n",
    "| Division      | `/`           | `3 / 2`   |\n",
    "| Potenz        | `**`          | `3 ** 2`  |\n",
    "\n",
    "Lassen Sie Python folgende Aufgaben lösen, überprüfen Sie das\n",
    "Resultat mit dem Print Befehl. Welche typen haben die Resultate?\n",
    "\n",
    "1. 9 * 15 / 3\n",
    "2. 4² - 100\n",
    "3. (1 + 2 + 3 + 4 + 5 + 6) / 6"
   ],
   "id": "613aceda96bbfe09"
  },
  {
   "metadata": {},
   "cell_type": "code",
   "source": "# Schreiben Sie Ihren Code hier:\n",
   "id": "3ce278744e9f99d0",
   "outputs": [],
   "execution_count": null
  }
 ],
 "metadata": {
  "kernelspec": {
   "display_name": "Python 3",
   "language": "python",
   "name": "python3"
  },
  "language_info": {
   "codemirror_mode": {
    "name": "ipython",
    "version": 2
   },
   "file_extension": ".py",
   "mimetype": "text/x-python",
   "name": "python",
   "nbconvert_exporter": "python",
   "pygments_lexer": "ipython2",
   "version": "2.7.6"
  }
 },
 "nbformat": 4,
 "nbformat_minor": 5
}
