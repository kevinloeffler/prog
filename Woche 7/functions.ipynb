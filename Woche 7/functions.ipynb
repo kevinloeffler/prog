{
 "cells": [
  {
   "metadata": {},
   "cell_type": "markdown",
   "source": [
    "# Funktionen\n",
    "Funktionen erlauben es uns, wiederverwendbaren und sauberen Code zu schreiben. Sie helfen uns, Programme in kleine,\n",
    "übersichtliche Teile zu zerlegen. Sie kennen bereits einige Funktionen, z.B. `print` oder `type`. Diese Funktionen\n",
    "sind in Python eingebaut und stehen jedem Programm zur Verfügung. Sie können aber auch eigene Funktionen schreiben.\n",
    "\n",
    "Eine Funktion beginnt immer mit `def`, gefolgt von einem Namen (gleich wie eine Variable) und danach runde Klammern `()`.\n"
   ],
   "id": "6fed585de933d41"
  },
  {
   "cell_type": "code",
   "id": "initial_id",
   "metadata": {
    "collapsed": true,
    "ExecuteTime": {
     "end_time": "2025-04-10T15:49:57.045497Z",
     "start_time": "2025-04-10T15:49:57.042438Z"
    }
   },
   "source": [
    "def greeting():\n",
    "    print('Hello world')"
   ],
   "outputs": [],
   "execution_count": 9
  },
  {
   "metadata": {},
   "cell_type": "markdown",
   "source": [
    "In diesem Beispiel sehen sie wie eine Funktion mit dem Namen `greeting` erstellt wird, doch wenn Sie den Code\n",
    "ausführen passiert nichts. Um den Code in der Funktion auszuführen müssen wir die Funktion aufrufen, `call` auf\n",
    "Englisch:"
   ],
   "id": "9dbbc6e0f041ef31"
  },
  {
   "metadata": {
    "ExecuteTime": {
     "end_time": "2025-04-10T15:49:57.781753Z",
     "start_time": "2025-04-10T15:49:57.779786Z"
    }
   },
   "cell_type": "code",
   "source": "greeting()",
   "id": "eb268bddbfd0610c",
   "outputs": [
    {
     "name": "stdout",
     "output_type": "stream",
     "text": [
      "Hello world\n"
     ]
    }
   ],
   "execution_count": 10
  },
  {
   "metadata": {},
   "cell_type": "markdown",
   "source": [
    "**Aufgabe:** Schreiben Sie eine Funktion, die `Guten Morgen!` ausgibt. Nennen Sie die Funktion `greeting_morning`.\n",
    "Rufen Sie Ihre Funktion auf."
   ],
   "id": "c14feb77524ebf82"
  },
  {
   "metadata": {},
   "cell_type": "code",
   "outputs": [],
   "execution_count": null,
   "source": "# Ihren Code:",
   "id": "29c8e1db414efac3"
  },
  {
   "metadata": {},
   "cell_type": "markdown",
   "source": [
    "### Parameter\n",
    "Diese Funktionen sind praktisch aber noch nicht sehr flexibel. Als nächstes, würden wir mit unserer `greeting` funktion\n",
    "gerne jemandem Hallo sagen. Dazu können wir Parameter verwenden. Parameter erlauben es einer Funktion zum Zeitpunkt\n",
    "an der Sie aufgerufen wird etwas mitzugeben, z.B. einen Namen für unsere `greeting` Funktion. Ein Parameter können\n",
    "Sie sich als Platzhalter vorstellen."
   ],
   "id": "6dc086a36d82e9c6"
  },
  {
   "metadata": {
    "ExecuteTime": {
     "end_time": "2025-04-10T15:57:30.573454Z",
     "start_time": "2025-04-10T15:57:30.570547Z"
    }
   },
   "cell_type": "code",
   "source": [
    "def greeting(name):\n",
    "    print('Hello', name)\n",
    "\n",
    "greeting('Tempus')\n",
    "greeting('Anna')\n",
    "greeting('Melina')"
   ],
   "id": "4cf2bd9d762e5fef",
   "outputs": [
    {
     "name": "stdout",
     "output_type": "stream",
     "text": [
      "Hello Tempus\n",
      "Hello Anna\n",
      "Hello Melina\n"
     ]
    }
   ],
   "execution_count": 12
  },
  {
   "metadata": {},
   "cell_type": "markdown",
   "source": "**Aufgabe:** Passen Sie Ihre `greeting_morning` Funktion so an, dass sie eine Person grüssen können.",
   "id": "c56ff160e8703a2e"
  },
  {
   "metadata": {},
   "cell_type": "code",
   "outputs": [],
   "execution_count": null,
   "source": "# Ihren Code:",
   "id": "4c17b2bc614ef96d"
  },
  {
   "metadata": {},
   "cell_type": "markdown",
   "source": [
    "**Aufgabe:** Schreiben Sie eine Funktion `square`, die eine Zahl als Parameter nimmt und das Quadrat dieser Zahl\n",
    "ausgibt."
   ],
   "id": "c3a03ae6c7adb20f"
  },
  {
   "metadata": {},
   "cell_type": "code",
   "outputs": [],
   "execution_count": null,
   "source": "# Ihren Code",
   "id": "be8bb9f33616b680"
  },
  {
   "metadata": {},
   "cell_type": "markdown",
   "source": [
    "Wie viele Parameter Sie für eine Funktion verwenden ist Ihnen überlassen. Sie können beliebig viele Parameter mit\n",
    "Kommas getrennt definieren:"
   ],
   "id": "2f87e24c91b71425"
  },
  {
   "metadata": {
    "ExecuteTime": {
     "end_time": "2025-04-10T16:01:37.297525Z",
     "start_time": "2025-04-10T16:01:37.294809Z"
    }
   },
   "cell_type": "code",
   "source": [
    "def multi_greeting(name_1, name_2, name_3):\n",
    "    print('Hello ' + name_1 + ', ' + name_2 + ' and ' + name_3)\n",
    "\n",
    "multi_greeting('Kilian', 'Jane', 'Cornel')"
   ],
   "id": "75e9083a0d76d099",
   "outputs": [
    {
     "name": "stdout",
     "output_type": "stream",
     "text": [
      "Hello Kilian, Jane and Cornel\n"
     ]
    }
   ],
   "execution_count": 17
  },
  {
   "metadata": {},
   "cell_type": "markdown",
   "source": [
    "### Return\n",
    "Manchmal wollen wir, dass die Funktion etwas zurückgibt. Dafür verwenden wir das Schlüsselwort `return`.\n",
    "\n"
   ],
   "id": "516845b0c12fa51e"
  },
  {
   "metadata": {
    "ExecuteTime": {
     "end_time": "2025-04-10T16:03:36.493998Z",
     "start_time": "2025-04-10T16:03:36.491850Z"
    }
   },
   "cell_type": "code",
   "source": [
    "def add(a, b):\n",
    "    return a + b"
   ],
   "id": "ebe2425812622183",
   "outputs": [],
   "execution_count": 19
  },
  {
   "metadata": {},
   "cell_type": "markdown",
   "source": "Jetzt können wir einer Variable den Rückgabewert der `add` Funktion zuweisen:",
   "id": "baf7d745f917e62"
  },
  {
   "metadata": {
    "ExecuteTime": {
     "end_time": "2025-04-10T16:03:38.035057Z",
     "start_time": "2025-04-10T16:03:38.032759Z"
    }
   },
   "cell_type": "code",
   "source": [
    "result = add(5, 10)\n",
    "print(result)"
   ],
   "id": "2628f6af42d4c47f",
   "outputs": [
    {
     "name": "stdout",
     "output_type": "stream",
     "text": [
      "15\n"
     ]
    }
   ],
   "execution_count": 20
  },
  {
   "metadata": {},
   "cell_type": "markdown",
   "source": [
    "**Aufgabe:** Schreiben Sie eine Funktion `multiply`, die zwei Zahlen multipliziert und das Ergebnis zurückgibt.\n",
    "Testen Sie Ihre Funktion."
   ],
   "id": "98b52c3b95619803"
  },
  {
   "metadata": {},
   "cell_type": "code",
   "outputs": [],
   "execution_count": null,
   "source": "# Ihren Code:",
   "id": "d523b5ef58510770"
  }
 ],
 "metadata": {
  "kernelspec": {
   "display_name": "Python 3",
   "language": "python",
   "name": "python3"
  },
  "language_info": {
   "codemirror_mode": {
    "name": "ipython",
    "version": 2
   },
   "file_extension": ".py",
   "mimetype": "text/x-python",
   "name": "python",
   "nbconvert_exporter": "python",
   "pygments_lexer": "ipython2",
   "version": "2.7.6"
  }
 },
 "nbformat": 4,
 "nbformat_minor": 5
}
