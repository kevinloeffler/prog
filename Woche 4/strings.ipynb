{
 "cells": [
  {
   "metadata": {},
   "cell_type": "markdown",
   "source": [
    "# Strings\n",
    "Woche 4\n",
    "Verwenden Sie das Internet wenn Sie eine Funktion nicht kennen und probieren Sie verschiedene Lösungen aus.\n",
    "Eine gute Website ist [StackOverflow](https://stackoverflow.com/questions)."
   ],
   "id": "e6dae4be47a89e5c"
  },
  {
   "metadata": {},
   "cell_type": "markdown",
   "source": [
    "#### 🔤 Was ist ein String?\n",
    "Ein String ist eine Zeichenkette – also eine Aneinanderreihung von Buchstaben, Zahlen oder Symbolen."
   ],
   "id": "b468bf241b7acf3"
  },
  {
   "cell_type": "code",
   "id": "initial_id",
   "metadata": {
    "collapsed": true,
    "ExecuteTime": {
     "end_time": "2025-03-27T05:36:23.524603Z",
     "start_time": "2025-03-27T05:36:23.521550Z"
    }
   },
   "source": [
    "text = \"Hallo Küsnacht\"\n",
    "print(text)"
   ],
   "outputs": [
    {
     "name": "stdout",
     "output_type": "stream",
     "text": [
      "Hallo Küsnacht\n"
     ]
    }
   ],
   "execution_count": 2
  },
  {
   "metadata": {
    "ExecuteTime": {
     "end_time": "2025-03-27T05:36:24.043295Z",
     "start_time": "2025-03-27T05:36:24.041606Z"
    }
   },
   "cell_type": "code",
   "source": [
    "name = \"Max\"\n",
    "greeting = 'Guten Morgen!'\n",
    "empty_string = \"\"  # Auch ein leerer String (\"\") ist gültig – er enthält einfach keine Zeichen."
   ],
   "id": "fae953a2d5c33afe",
   "outputs": [],
   "execution_count": 3
  },
  {
   "metadata": {},
   "cell_type": "markdown",
   "source": "Multiline Strings: Mit drei Anführungszeichen kann ein Sting über mehrere Zeilen gehen.",
   "id": "817c3f4f8be8b371"
  },
  {
   "metadata": {
    "ExecuteTime": {
     "end_time": "2025-03-27T06:00:35.839050Z",
     "start_time": "2025-03-27T06:00:35.836445Z"
    }
   },
   "cell_type": "code",
   "source": [
    "long_text = \"\"\"\n",
    "Mr and Mrs Dursley, of number four, Privet Drive, were proud to say that they were\n",
    "perfectly normal, thank you very much. They were the last people you'd expect to be\n",
    "involved in anything strange or mysterious, because they just didn't hold with such\n",
    "nonsense.\n",
    "\"\"\""
   ],
   "id": "bb4af143a1102f5f",
   "outputs": [],
   "execution_count": 18
  },
  {
   "metadata": {},
   "cell_type": "markdown",
   "source": [
    "#### 🔍 Länge eines Strings\n",
    "Die Funktion len() gibt die Anzahl der Zeichen im String zurück, inklusive Leerzeichen."
   ],
   "id": "d31d65f98c7192ff"
  },
  {
   "metadata": {
    "ExecuteTime": {
     "end_time": "2025-03-27T05:39:27.538817Z",
     "start_time": "2025-03-27T05:39:27.536422Z"
    }
   },
   "cell_type": "code",
   "source": [
    "opinion = \"Python ist toll\"\n",
    "print(len(opinion))"
   ],
   "id": "1612379ff3fcb4c4",
   "outputs": [
    {
     "name": "stdout",
     "output_type": "stream",
     "text": [
      "15\n"
     ]
    }
   ],
   "execution_count": 4
  },
  {
   "metadata": {},
   "cell_type": "markdown",
   "source": [
    "**Aufgabe:** Definieren Sie zwei Variablen mit Strings, eine mit einem regulären und eine mit Multiline String. Geben\n",
    "Sie den Inhalt und die Länge mit print() aus, z.B: *'Hallo Tempus' ist 13 Zeichen Lang.*"
   ],
   "id": "2a354e907e587eba"
  },
  {
   "metadata": {
    "ExecuteTime": {
     "end_time": "2025-03-27T05:42:09.665790Z",
     "start_time": "2025-03-27T05:42:09.663612Z"
    }
   },
   "cell_type": "code",
   "source": "# TODO",
   "id": "3f50ee99ee180b7a",
   "outputs": [],
   "execution_count": 5
  },
  {
   "metadata": {},
   "cell_type": "markdown",
   "source": [
    "#### 🧩 Strings & Listen\n",
    "Strings sind sehr ähnlich wie listen in Python. Das heisst wir können viele Funktionen auf für beide Typen brauchen."
   ],
   "id": "f60bc04eee305167"
  },
  {
   "metadata": {
    "ExecuteTime": {
     "end_time": "2025-03-27T05:56:01.268200Z",
     "start_time": "2025-03-27T05:56:01.265582Z"
    }
   },
   "cell_type": "code",
   "source": [
    "day_of_the_week = \"Thursday\"\n",
    "first_letter = day_of_the_week[3]  # string indexing (wie bei Listen)\n",
    "print(first_letter)"
   ],
   "id": "920f8fba9c409ca9",
   "outputs": [
    {
     "name": "stdout",
     "output_type": "stream",
     "text": [
      "r\n"
     ]
    }
   ],
   "execution_count": 15
  },
  {
   "metadata": {},
   "cell_type": "markdown",
   "source": [
    "**Aufgabe:** Geben Sie das erste, fünfte und letzte Zeichen aus:\n",
    "Tipp: Für das letzte Zeichen gibt es einen Trick bei dem Sie nicht zählen müssen (Googeln Sie)\n"
   ],
   "id": "8ea0d1467bcd59c4"
  },
  {
   "metadata": {
    "ExecuteTime": {
     "end_time": "2025-03-27T05:54:57.637404Z",
     "start_time": "2025-03-27T05:54:57.635223Z"
    }
   },
   "cell_type": "code",
   "source": "# TODO",
   "id": "7d7bfd3efd70aae5",
   "outputs": [],
   "execution_count": 12
  },
  {
   "metadata": {},
   "cell_type": "markdown",
   "source": [
    "#### ✂️ Strings ausschneiden (Slicing)\n",
    "Wir können nicht nur einen Buchstaben aus einem String holen sondern auch ganze Teile, sogenannte Slices."
   ],
   "id": "3f618616c4202de1"
  },
  {
   "metadata": {
    "ExecuteTime": {
     "end_time": "2025-03-27T05:54:58.964713Z",
     "start_time": "2025-03-27T05:54:58.962959Z"
    }
   },
   "cell_type": "code",
   "source": [
    "opinion = \"Python ist toll\"\n",
    "print(opinion[0:6])  # Gibt \"Hallo\""
   ],
   "id": "be063cfe2967c1b3",
   "outputs": [
    {
     "name": "stdout",
     "output_type": "stream",
     "text": [
      "Python\n"
     ]
    }
   ],
   "execution_count": 13
  },
  {
   "metadata": {},
   "cell_type": "markdown",
   "source": [
    "**Aufgabe:** Schneiden Sie die Wörter 'ist' und 'toll' aus dem string opinion. Benutzen Sie für das Wort 'toll' reverse\n",
    "indexing, also negative Zahlen."
   ],
   "id": "7032a1064ce1375c"
  },
  {
   "metadata": {
    "ExecuteTime": {
     "end_time": "2025-03-27T05:57:31.964969Z",
     "start_time": "2025-03-27T05:57:31.962975Z"
    }
   },
   "cell_type": "code",
   "source": "# TODO",
   "id": "f60e0322d6eaf541",
   "outputs": [],
   "execution_count": 17
  },
  {
   "metadata": {},
   "cell_type": "markdown",
   "source": [
    "#### 🔄 Strings verbinden (Konkatenation)\n",
    "Der + Operator fügt Strings zusammen. Wichtig: Leerzeichen müssen ggf. selbst eingefügt werden!"
   ],
   "id": "822b0e71d89265e8"
  },
  {
   "metadata": {
    "ExecuteTime": {
     "end_time": "2025-03-27T06:02:17.487457Z",
     "start_time": "2025-03-27T06:02:17.484832Z"
    }
   },
   "cell_type": "code",
   "source": [
    "school = \"Tempus\"\n",
    "print(\"Schule: \" + school)"
   ],
   "id": "cef365301157c122",
   "outputs": [
    {
     "name": "stdout",
     "output_type": "stream",
     "text": [
      "Schule: Tempus\n"
     ]
    }
   ],
   "execution_count": 19
  },
  {
   "metadata": {},
   "cell_type": "markdown",
   "source": "**Aufgabe:** Definieren Sie mindestens zwei Strings und fügen Sie sie mit + zu einem grossen String zusammen.",
   "id": "602eb85054359a4c"
  },
  {
   "metadata": {},
   "cell_type": "code",
   "outputs": [],
   "execution_count": null,
   "source": "# TODO",
   "id": "7f0a8af6253cb87e"
  },
  {
   "metadata": {},
   "cell_type": "markdown",
   "source": [
    "#### 🎨 Strings formatieren\n",
    "Das f vor dem String nennt man f-String – damit kann man Variablen direkt in geschweiften Klammern einfügen. Sehr praktisch!"
   ],
   "id": "3c17d3b6c79874e2"
  },
  {
   "metadata": {
    "ExecuteTime": {
     "end_time": "2025-03-27T07:23:20.236526Z",
     "start_time": "2025-03-27T07:23:20.233925Z"
    }
   },
   "cell_type": "code",
   "source": [
    "name = \"John\"\n",
    "alter = 16\n",
    "satz = f\"{name} ist {alter} Jahre alt.\"\n",
    "print(satz)"
   ],
   "id": "245276d70e71c418",
   "outputs": [
    {
     "name": "stdout",
     "output_type": "stream",
     "text": [
      "John ist 16 Jahre alt.\n"
     ]
    }
   ],
   "execution_count": 21
  },
  {
   "metadata": {},
   "cell_type": "markdown",
   "source": "**Aufgabe:** Passen Sie den Satz passend für sich an",
   "id": "12885e1d85f0a9c9"
  },
  {
   "metadata": {
    "ExecuteTime": {
     "end_time": "2025-03-27T07:23:58.448211Z",
     "start_time": "2025-03-27T07:23:58.446408Z"
    }
   },
   "cell_type": "code",
   "source": "# TODO",
   "id": "6a317e87eccc639d",
   "outputs": [],
   "execution_count": 22
  },
  {
   "metadata": {},
   "cell_type": "markdown",
   "source": [
    "#### 🔠 Groß- und Kleinschreibung\n",
    "Diese Methoden verändern die Schreibweise – nützlich z.B. für Vergleiche oder einheitliche Formatierung"
   ],
   "id": "e4323b51e0c7c2d7"
  },
  {
   "metadata": {
    "ExecuteTime": {
     "end_time": "2025-03-27T07:24:48.450324Z",
     "start_time": "2025-03-27T07:24:48.447695Z"
    }
   },
   "cell_type": "code",
   "source": [
    "text = \"guten Tag\"\n",
    "print(text.upper())   # Alles gross\n",
    "print(text.lower())   # Alles klein\n",
    "print(text.capitalize())  # Erster Buchstabe gross"
   ],
   "id": "717fabf76a490696",
   "outputs": [
    {
     "name": "stdout",
     "output_type": "stream",
     "text": [
      "GUTEN TAG\n",
      "guten tag\n",
      "Guten tag\n"
     ]
    }
   ],
   "execution_count": 23
  },
  {
   "metadata": {},
   "cell_type": "markdown",
   "source": [
    "#### 🧪 Suchen und Ersetzen\n",
    "Mit diesen Methoden können Sie Text in einem String finden und ersetzen."
   ],
   "id": "decdecef7bd7adf3"
  },
  {
   "metadata": {
    "ExecuteTime": {
     "end_time": "2025-03-27T08:35:46.557576Z",
     "start_time": "2025-03-27T08:35:46.555346Z"
    }
   },
   "cell_type": "code",
   "source": [
    "sentence = \"Ich liebe Programmieren\"\n",
    "print(sentence.find(\"liebe\"))\n",
    "print(sentence.replace(\"Programmieren\", \"Pizza\"))"
   ],
   "id": "aaecc6f455e0c36e",
   "outputs": [
    {
     "name": "stdout",
     "output_type": "stream",
     "text": [
      "4\n",
      "Ich liebe Pizza\n"
     ]
    }
   ],
   "execution_count": 26
  },
  {
   "metadata": {},
   "cell_type": "markdown",
   "source": [
    "**Aufgabe:** Beantworten Sie folgende Fragen:\n",
    "- Funktioniert `find()` auch mit Gross/Kleinschreibung?\n",
    "- Was gibt die `find()` Funktion zurück wenn der String nicht gefunden wurde?\n",
    "- Könnnen Sie mit `replace()` mehrere Strings in einem Text ersetzen? Z.B: Alle 'a' durch 'b' in Abrakadabra"
   ],
   "id": "e91577dfcb4a7d0d"
  },
  {
   "metadata": {
    "ExecuteTime": {
     "end_time": "2025-03-27T08:39:27.879159Z",
     "start_time": "2025-03-27T08:39:27.876928Z"
    }
   },
   "cell_type": "code",
   "source": "# TODO",
   "id": "6918750eacdb6fe8",
   "outputs": [],
   "execution_count": 27
  },
  {
   "metadata": {},
   "cell_type": "markdown",
   "source": "## Aufgaben",
   "id": "69cde3f9e51f2231"
  },
  {
   "metadata": {},
   "cell_type": "markdown",
   "source": [
    "Erstellen Sie einen String, der Ihren Namen und Ihr Lieblingsessen enthält.\n",
    "Verwenden Sie f-Strings, um den Satz „Mein Name ist … und ich esse gerne …“ zu erzeugen."
   ],
   "id": "59c6382f776d2a6d"
  },
  {
   "metadata": {
    "ExecuteTime": {
     "end_time": "2025-03-27T08:40:25.984080Z",
     "start_time": "2025-03-27T08:40:25.981940Z"
    }
   },
   "cell_type": "code",
   "source": "# TODO",
   "id": "7795039e57a83ca",
   "outputs": [],
   "execution_count": 28
  },
  {
   "metadata": {},
   "cell_type": "markdown",
   "source": "Schneiden Sie aus dem String \"GeheimeBotschaft123\" nur das Wort \"Botschaft\" heraus.",
   "id": "f614a7294dd3aecf"
  },
  {
   "metadata": {
    "ExecuteTime": {
     "end_time": "2025-03-27T08:40:37.974118Z",
     "start_time": "2025-03-27T08:40:37.972156Z"
    }
   },
   "cell_type": "code",
   "source": "# TODO",
   "id": "9cb5d2fbe022311e",
   "outputs": [],
   "execution_count": 29
  },
  {
   "metadata": {},
   "cell_type": "markdown",
   "source": "Finden Sie heraus wie sie den Satz rückwärts ausgeben können:",
   "id": "2a4d36efd45ec9b2"
  },
  {
   "metadata": {
    "ExecuteTime": {
     "end_time": "2025-03-27T08:42:34.567531Z",
     "start_time": "2025-03-27T08:42:34.565407Z"
    }
   },
   "cell_type": "code",
   "source": "forward = \"Programmieren macht Spass\"",
   "id": "e0fead217a06bd53",
   "outputs": [],
   "execution_count": 30
  },
  {
   "metadata": {},
   "cell_type": "markdown",
   "source": "Finden Sie heraus wie Sie einen Buchstaben zählen können und zählen Sie die 'A' im String:",
   "id": "7eedf1053d4866"
  },
  {
   "metadata": {
    "ExecuteTime": {
     "end_time": "2025-03-27T08:44:08.568167Z",
     "start_time": "2025-03-27T08:44:08.566164Z"
    }
   },
   "cell_type": "code",
   "source": "text = \"Ananasalarm am Amazonas\"",
   "id": "941ebb7e77f2c2bd",
   "outputs": [],
   "execution_count": 31
  },
  {
   "metadata": {},
   "cell_type": "markdown",
   "source": "Verschlüsseln Sie das Password indem Sie alle Buchstaben durch * ersetzen",
   "id": "f9e9d0e1c1b50331"
  },
  {
   "metadata": {
    "ExecuteTime": {
     "end_time": "2025-03-27T08:44:51.919326Z",
     "start_time": "2025-03-27T08:44:51.917354Z"
    }
   },
   "cell_type": "code",
   "source": "password = \"Geheime Nachricht\"",
   "id": "5a171feaa8ec2fbb",
   "outputs": [],
   "execution_count": 32
  },
  {
   "metadata": {},
   "cell_type": "code",
   "outputs": [],
   "execution_count": null,
   "source": "",
   "id": "36848d9dd322efdd"
  }
 ],
 "metadata": {
  "kernelspec": {
   "display_name": "Python 3",
   "language": "python",
   "name": "python3"
  },
  "language_info": {
   "codemirror_mode": {
    "name": "ipython",
    "version": 2
   },
   "file_extension": ".py",
   "mimetype": "text/x-python",
   "name": "python",
   "nbconvert_exporter": "python",
   "pygments_lexer": "ipython2",
   "version": "2.7.6"
  }
 },
 "nbformat": 4,
 "nbformat_minor": 5
}
